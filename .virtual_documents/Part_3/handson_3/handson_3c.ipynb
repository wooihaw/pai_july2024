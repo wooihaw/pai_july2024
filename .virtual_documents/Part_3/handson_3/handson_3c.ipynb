





# Initialization
%matplotlib inline
from warnings import filterwarnings
filterwarnings('ignore')


# Load the required libraries
import sys
from pandas import read_csv
from sklearn.model_selection import train_test_split as split, KFold, cross_val_score
from sklearn.linear_model import LogisticRegression
from sklearn.tree import DecisionTreeClassifier
from sklearn.neighbors import KNeighborsClassifier
from sklearn.preprocessing import StandardScaler
from sklearn.decomposition import PCA


# Load the dataset
# Determine the environment
is_colab = 'google.colab' in sys.modules

# Execute code conditionally
if is_colab:
    # Code for Google Colab environment
    df = read_csv("https://raw.githubusercontent.com/wooihaw/datasets/main/steel_faults.csv")
else:
    # Code for local Jupyter Notebook environment
    df = read_csv("steel_faults.csv")






























