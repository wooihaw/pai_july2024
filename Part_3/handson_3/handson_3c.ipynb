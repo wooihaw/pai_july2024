{
 "cells": [
  {
   "cell_type": "markdown",
   "id": "67305e82",
   "metadata": {
    "colab_type": "text",
    "id": "view-in-github"
   },
   "source": [
    "<a href=\"https://colab.research.google.com/github/wooihaw/pai_july2024/blob/main/Part_3/handson_3/handson_3c.ipynb\" target=\"_parent\"><img src=\"https://colab.research.google.com/assets/colab-badge.svg\" alt=\"Open In Colab\"/></a>"
   ]
  },
  {
   "cell_type": "markdown",
   "id": "9acdec19",
   "metadata": {
    "id": "9acdec19"
   },
   "source": [
    "## Hands-on 3C\n",
    "#### Build 3 classification models to classify faulty steel plates. The dataset contains information about steel plates and their faults. There are 27 features and the data samples have been classified into 7 different types of steel plate faults."
   ]
  },
  {
   "cell_type": "code",
   "execution_count": 1,
   "id": "6481264f",
   "metadata": {
    "id": "6481264f",
    "tags": []
   },
   "outputs": [],
   "source": [
    "# Initialization\n",
    "%matplotlib inline\n",
    "from warnings import filterwarnings\n",
    "filterwarnings('ignore')"
   ]
  },
  {
   "cell_type": "code",
   "execution_count": 2,
   "id": "1ae13063",
   "metadata": {
    "id": "1ae13063",
    "tags": []
   },
   "outputs": [],
   "source": [
    "# Load the required libraries\n",
    "import sys\n",
    "from pandas import read_csv\n",
    "from sklearn.model_selection import train_test_split as split, KFold, cross_val_score\n",
    "from sklearn.linear_model import LogisticRegression\n",
    "from sklearn.tree import DecisionTreeClassifier\n",
    "from sklearn.neighbors import KNeighborsClassifier\n",
    "from sklearn.preprocessing import StandardScaler\n",
    "from sklearn.decomposition import PCA"
   ]
  },
  {
   "cell_type": "code",
   "execution_count": 3,
   "id": "5dbfb794",
   "metadata": {
    "id": "5dbfb794",
    "tags": []
   },
   "outputs": [],
   "source": [
    "# Load the dataset\n",
    "# Determine the environment\n",
    "is_colab = 'google.colab' in sys.modules\n",
    "\n",
    "# Execute code conditionally\n",
    "if is_colab:\n",
    "    # Code for Google Colab environment\n",
    "    df = read_csv(\"https://raw.githubusercontent.com/wooihaw/datasets/main/steel_faults.csv\")\n",
    "else:\n",
    "    # Code for local Jupyter Notebook environment\n",
    "    df = read_csv(\"steel_faults.csv\")"
   ]
  },
  {
   "cell_type": "markdown",
   "id": "f1ac88e3",
   "metadata": {
    "id": "f1ac88e3"
   },
   "source": [
    "**To do:**\n",
    "- Print 5 random data samples from the dataset"
   ]
  },
  {
   "cell_type": "code",
   "execution_count": 4,
   "id": "a3f0b6ab",
   "metadata": {
    "id": "a3f0b6ab",
    "tags": []
   },
   "outputs": [
    {
     "data": {
      "text/html": [
       "<div>\n",
       "<style scoped>\n",
       "    .dataframe tbody tr th:only-of-type {\n",
       "        vertical-align: middle;\n",
       "    }\n",
       "\n",
       "    .dataframe tbody tr th {\n",
       "        vertical-align: top;\n",
       "    }\n",
       "\n",
       "    .dataframe thead th {\n",
       "        text-align: right;\n",
       "    }\n",
       "</style>\n",
       "<table border=\"1\" class=\"dataframe\">\n",
       "  <thead>\n",
       "    <tr style=\"text-align: right;\">\n",
       "      <th></th>\n",
       "      <th>X_Minimum</th>\n",
       "      <th>X_Maximum</th>\n",
       "      <th>Y_Minimum</th>\n",
       "      <th>Y_Maximum</th>\n",
       "      <th>Pixels_Areas</th>\n",
       "      <th>X_Perimeter</th>\n",
       "      <th>Y_Perimeter</th>\n",
       "      <th>Sum_of_Luminosity</th>\n",
       "      <th>Minimum_of_Luminosity</th>\n",
       "      <th>Maximum_of_Luminosity</th>\n",
       "      <th>...</th>\n",
       "      <th>Edges_X_Index</th>\n",
       "      <th>Edges_Y_Index</th>\n",
       "      <th>Outside_Global_Index</th>\n",
       "      <th>LogOfAreas</th>\n",
       "      <th>Log_X_Index</th>\n",
       "      <th>Log_Y_Index</th>\n",
       "      <th>Orientation_Index</th>\n",
       "      <th>Luminosity_Index</th>\n",
       "      <th>SigmoidOfAreas</th>\n",
       "      <th>Fault</th>\n",
       "    </tr>\n",
       "  </thead>\n",
       "  <tbody>\n",
       "    <tr>\n",
       "      <th>1774</th>\n",
       "      <td>897</td>\n",
       "      <td>925</td>\n",
       "      <td>1410869</td>\n",
       "      <td>1410896</td>\n",
       "      <td>361</td>\n",
       "      <td>51</td>\n",
       "      <td>35</td>\n",
       "      <td>46442</td>\n",
       "      <td>121</td>\n",
       "      <td>143</td>\n",
       "      <td>...</td>\n",
       "      <td>0.5490</td>\n",
       "      <td>0.7714</td>\n",
       "      <td>0.0</td>\n",
       "      <td>2.5575</td>\n",
       "      <td>1.4472</td>\n",
       "      <td>1.4314</td>\n",
       "      <td>-0.0357</td>\n",
       "      <td>0.0051</td>\n",
       "      <td>0.9537</td>\n",
       "      <td>Other_Faults</td>\n",
       "    </tr>\n",
       "    <tr>\n",
       "      <th>1494</th>\n",
       "      <td>243</td>\n",
       "      <td>254</td>\n",
       "      <td>205684</td>\n",
       "      <td>205730</td>\n",
       "      <td>305</td>\n",
       "      <td>37</td>\n",
       "      <td>46</td>\n",
       "      <td>14320</td>\n",
       "      <td>7</td>\n",
       "      <td>86</td>\n",
       "      <td>...</td>\n",
       "      <td>0.2973</td>\n",
       "      <td>1.0000</td>\n",
       "      <td>1.0</td>\n",
       "      <td>2.4843</td>\n",
       "      <td>1.0414</td>\n",
       "      <td>1.6628</td>\n",
       "      <td>0.7609</td>\n",
       "      <td>-0.6332</td>\n",
       "      <td>0.7955</td>\n",
       "      <td>Other_Faults</td>\n",
       "    </tr>\n",
       "    <tr>\n",
       "      <th>966</th>\n",
       "      <td>251</td>\n",
       "      <td>260</td>\n",
       "      <td>961360</td>\n",
       "      <td>961371</td>\n",
       "      <td>67</td>\n",
       "      <td>11</td>\n",
       "      <td>11</td>\n",
       "      <td>7550</td>\n",
       "      <td>99</td>\n",
       "      <td>125</td>\n",
       "      <td>...</td>\n",
       "      <td>0.8182</td>\n",
       "      <td>1.0000</td>\n",
       "      <td>1.0</td>\n",
       "      <td>1.8261</td>\n",
       "      <td>0.9542</td>\n",
       "      <td>1.0414</td>\n",
       "      <td>0.1818</td>\n",
       "      <td>-0.1196</td>\n",
       "      <td>0.2051</td>\n",
       "      <td>Bumps</td>\n",
       "    </tr>\n",
       "    <tr>\n",
       "      <th>1796</th>\n",
       "      <td>927</td>\n",
       "      <td>936</td>\n",
       "      <td>1971777</td>\n",
       "      <td>1971784</td>\n",
       "      <td>35</td>\n",
       "      <td>10</td>\n",
       "      <td>8</td>\n",
       "      <td>4277</td>\n",
       "      <td>117</td>\n",
       "      <td>127</td>\n",
       "      <td>...</td>\n",
       "      <td>0.9000</td>\n",
       "      <td>0.8750</td>\n",
       "      <td>0.0</td>\n",
       "      <td>1.5441</td>\n",
       "      <td>0.9542</td>\n",
       "      <td>0.8451</td>\n",
       "      <td>-0.2222</td>\n",
       "      <td>-0.0453</td>\n",
       "      <td>0.1687</td>\n",
       "      <td>Other_Faults</td>\n",
       "    </tr>\n",
       "    <tr>\n",
       "      <th>1726</th>\n",
       "      <td>20</td>\n",
       "      <td>31</td>\n",
       "      <td>1048964</td>\n",
       "      <td>1048986</td>\n",
       "      <td>158</td>\n",
       "      <td>18</td>\n",
       "      <td>22</td>\n",
       "      <td>17923</td>\n",
       "      <td>106</td>\n",
       "      <td>125</td>\n",
       "      <td>...</td>\n",
       "      <td>0.6111</td>\n",
       "      <td>1.0000</td>\n",
       "      <td>1.0</td>\n",
       "      <td>2.1987</td>\n",
       "      <td>1.0414</td>\n",
       "      <td>1.3424</td>\n",
       "      <td>0.5000</td>\n",
       "      <td>-0.1138</td>\n",
       "      <td>0.4009</td>\n",
       "      <td>Other_Faults</td>\n",
       "    </tr>\n",
       "  </tbody>\n",
       "</table>\n",
       "<p>5 rows × 28 columns</p>\n",
       "</div>"
      ],
      "text/plain": [
       "      X_Minimum  X_Maximum  Y_Minimum  Y_Maximum  Pixels_Areas  X_Perimeter  \\\n",
       "1774        897        925    1410869    1410896           361           51   \n",
       "1494        243        254     205684     205730           305           37   \n",
       "966         251        260     961360     961371            67           11   \n",
       "1796        927        936    1971777    1971784            35           10   \n",
       "1726         20         31    1048964    1048986           158           18   \n",
       "\n",
       "      Y_Perimeter  Sum_of_Luminosity  Minimum_of_Luminosity  \\\n",
       "1774           35              46442                    121   \n",
       "1494           46              14320                      7   \n",
       "966            11               7550                     99   \n",
       "1796            8               4277                    117   \n",
       "1726           22              17923                    106   \n",
       "\n",
       "      Maximum_of_Luminosity  ...  Edges_X_Index  Edges_Y_Index  \\\n",
       "1774                    143  ...         0.5490         0.7714   \n",
       "1494                     86  ...         0.2973         1.0000   \n",
       "966                     125  ...         0.8182         1.0000   \n",
       "1796                    127  ...         0.9000         0.8750   \n",
       "1726                    125  ...         0.6111         1.0000   \n",
       "\n",
       "      Outside_Global_Index  LogOfAreas  Log_X_Index  Log_Y_Index  \\\n",
       "1774                   0.0      2.5575       1.4472       1.4314   \n",
       "1494                   1.0      2.4843       1.0414       1.6628   \n",
       "966                    1.0      1.8261       0.9542       1.0414   \n",
       "1796                   0.0      1.5441       0.9542       0.8451   \n",
       "1726                   1.0      2.1987       1.0414       1.3424   \n",
       "\n",
       "      Orientation_Index  Luminosity_Index  SigmoidOfAreas         Fault  \n",
       "1774            -0.0357            0.0051          0.9537  Other_Faults  \n",
       "1494             0.7609           -0.6332          0.7955  Other_Faults  \n",
       "966              0.1818           -0.1196          0.2051         Bumps  \n",
       "1796            -0.2222           -0.0453          0.1687  Other_Faults  \n",
       "1726             0.5000           -0.1138          0.4009  Other_Faults  \n",
       "\n",
       "[5 rows x 28 columns]"
      ]
     },
     "execution_count": 4,
     "metadata": {},
     "output_type": "execute_result"
    }
   ],
   "source": [
    "df.sample(5)"
   ]
  },
  {
   "cell_type": "markdown",
   "id": "c01cb8e5",
   "metadata": {
    "id": "c01cb8e5"
   },
   "source": [
    "**To do:**\n",
    "- Separate the dataset into features (X) and targets (y)"
   ]
  },
  {
   "cell_type": "code",
   "execution_count": 5,
   "id": "60dcdb69",
   "metadata": {
    "id": "60dcdb69",
    "tags": []
   },
   "outputs": [],
   "source": [
    "X = df.drop(columns=[\"Fault\"])\n",
    "y = df[\"Fault\"]"
   ]
  },
  {
   "cell_type": "markdown",
   "id": "a354ee9c",
   "metadata": {
    "id": "a354ee9c"
   },
   "source": [
    "**To do:**\n",
    "- Evaluate the performance of k-Nearest Neighbors, Logistic Regression and Decision Tree on this dataset using 5-fold cross validation."
   ]
  },
  {
   "cell_type": "code",
   "execution_count": 6,
   "id": "89c13b59",
   "metadata": {
    "id": "89c13b59",
    "tags": []
   },
   "outputs": [
    {
     "name": "stdout",
     "output_type": "stream",
     "text": [
      "knn: 46.368%, 3.167%\n",
      "dtc: 70.736%, 2.008%\n",
      "lgr: 45.594%, 2.025%\n"
     ]
    }
   ],
   "source": [
    "# Use spot-checking to quickly evaluate the performance of different models\n",
    "models = {}\n",
    "models[\"knn\"] = KNeighborsClassifier()\n",
    "models[\"dtc\"] = DecisionTreeClassifier(random_state=42)\n",
    "models[\"lgr\"] = LogisticRegression()\n",
    "\n",
    "kf = KFold(n_splits=5, shuffle=True, random_state=42)\n",
    "for n in models:\n",
    "    scores = cross_val_score(models[n], X, y, cv=kf, n_jobs=-1)\n",
    "    print(f\"{n}: {scores.mean():.3%}, {scores.std():.3%}\")"
   ]
  },
  {
   "cell_type": "markdown",
   "id": "6b870137",
   "metadata": {
    "id": "6b870137"
   },
   "source": [
    "**To do:**\n",
    "- Peform feature scaling using standard scaler. Evaluate the performance of k-Nearest Neighbors, Logistic Regression and Decision Tree on the scaled features using 5-fold cross validation."
   ]
  },
  {
   "cell_type": "code",
   "execution_count": 7,
   "id": "dd8607c8",
   "metadata": {
    "id": "dd8607c8",
    "tags": []
   },
   "outputs": [
    {
     "name": "stdout",
     "output_type": "stream",
     "text": [
      "knn: 73.983%, 2.111%\n",
      "dtc: 70.684%, 2.033%\n",
      "lgr: 71.302%, 3.089%\n"
     ]
    }
   ],
   "source": [
    "scl = StandardScaler()\n",
    "Xs = scl.fit_transform(X)\n",
    "\n",
    "for n in models:\n",
    "    scores = cross_val_score(models[n], Xs, y, cv=kf, n_jobs=-1)\n",
    "    print(f\"{n}: {scores.mean():.3%}, {scores.std():.3%}\")"
   ]
  },
  {
   "cell_type": "markdown",
   "id": "29c9798a",
   "metadata": {
    "id": "29c9798a"
   },
   "source": [
    "**To do:**\n",
    "- Use Principle Component Analysis (PCA) to reduce the dimensionality of the scaled features to 13. Evaluate the performance of k-Nearest Neighbors, Logistic Regression and Decision Tree on these features using 5-fold cross validation."
   ]
  },
  {
   "cell_type": "code",
   "execution_count": 9,
   "id": "8585e37c",
   "metadata": {
    "id": "8585e37c",
    "tags": []
   },
   "outputs": [
    {
     "name": "stdout",
     "output_type": "stream",
     "text": [
      "knn: 73.725%, 1.527%\n",
      "dtc: 65.174%, 3.083%\n",
      "lgr: 70.683%, 3.247%\n"
     ]
    }
   ],
   "source": [
    "pca = PCA(n_components=13)\n",
    "Xsr = pca.fit_transform(Xs)\n",
    "\n",
    "for n in models:\n",
    "    scores = cross_val_score(models[n], Xsr, y, cv=kf, n_jobs=-1)\n",
    "    print(f\"{n}: {scores.mean():.3%}, {scores.std():.3%}\")"
   ]
  },
  {
   "cell_type": "code",
   "execution_count": null,
   "id": "d3bc9878-055c-4f96-8440-4fde676530cc",
   "metadata": {},
   "outputs": [],
   "source": []
  }
 ],
 "metadata": {
  "colab": {
   "include_colab_link": true,
   "provenance": []
  },
  "kernelspec": {
   "display_name": "Python 3 (ipykernel)",
   "language": "python",
   "name": "python3"
  },
  "language_info": {
   "codemirror_mode": {
    "name": "ipython",
    "version": 3
   },
   "file_extension": ".py",
   "mimetype": "text/x-python",
   "name": "python",
   "nbconvert_exporter": "python",
   "pygments_lexer": "ipython3",
   "version": "3.12.4"
  }
 },
 "nbformat": 4,
 "nbformat_minor": 5
}
